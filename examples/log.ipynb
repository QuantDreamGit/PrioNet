{
 "cells": [
  {
   "cell_type": "code",
   "execution_count": 1,
   "metadata": {},
   "outputs": [],
   "source": [
    "import os\n",
    "import sys"
   ]
  },
  {
   "cell_type": "code",
   "execution_count": 5,
   "metadata": {},
   "outputs": [
    {
     "name": "stdout",
     "output_type": "stream",
     "text": [
      "File 'example.txt' not found in 'example_folder'. Creating a new file.\n",
      "New content appended to the file.\n"
     ]
    }
   ],
   "source": [
    "import os\n",
    "\n",
    "def read_and_write_file(folder, filename):\n",
    "    # Check if the folder exists, if not, create it\n",
    "    if not os.path.exists(folder):\n",
    "        # Create a folder\n",
    "        os.makedirs(folder)\n",
    "\n",
    "    file_path = os.path.join(folder, filename)\n",
    "\n",
    "    try:\n",
    "        # Try to open the file for reading\n",
    "        with open(file_path, 'r') as file:\n",
    "            # Read the contents of the file\n",
    "            content = file.read()\n",
    "            print(\"File content:\")\n",
    "            print(content)\n",
    "    except FileNotFoundError:\n",
    "        # If the file doesn't exist, create it\n",
    "        print(f\"File '{filename}' not found in '{folder}'. Creating a new file.\")\n",
    "        with open(file_path, 'w') as file:\n",
    "            file.write(\"This is a new file created by the program.\")\n",
    "\n",
    "    # Open the file again for appending\n",
    "    with open(file_path, 'a') as file:\n",
    "        # Write new content to the file\n",
    "        new_content = \"\\nThis is new content appended to the file.\"\n",
    "        file.write(new_content)\n",
    "        print(\"New content appended to the file.\")\n",
    "\n",
    "# Example usage\n",
    "folder_name = \"example_folder\"\n",
    "file_name = \"example.txt\"\n",
    "read_and_write_file(folder_name, file_name)\n"
   ]
  },
  {
   "cell_type": "code",
   "execution_count": null,
   "metadata": {},
   "outputs": [],
   "source": []
  }
 ],
 "metadata": {
  "kernelspec": {
   "display_name": "crypto",
   "language": "python",
   "name": "python3"
  },
  "language_info": {
   "codemirror_mode": {
    "name": "ipython",
    "version": 3
   },
   "file_extension": ".py",
   "mimetype": "text/x-python",
   "name": "python",
   "nbconvert_exporter": "python",
   "pygments_lexer": "ipython3",
   "version": "3.9.12"
  }
 },
 "nbformat": 4,
 "nbformat_minor": 2
}
